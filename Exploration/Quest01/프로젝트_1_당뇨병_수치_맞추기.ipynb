{
  "cells": [
    {
      "cell_type": "markdown",
      "metadata": {
        "id": "m2H9lh_wGj8p"
      },
      "source": [
        "# 당뇨병 진척도 예측하기"
      ]
    },
    {
      "cell_type": "markdown",
      "metadata": {
        "id": "rLU0334mPEYs"
      },
      "source": [
        "나이, 성별, bmi 등 10종의 데이터 기반으로 데이터 수집 당시를 기준으로 1년 뒤 비만의 진행 정도를 정량적으로 측정한 데이터\n",
        "\n",
        "해당 데이터를 기반으로 학습된 모델을 통해 데이터가 입력되었을 때, 비만의 진척도를 정수로 표현하는 것이 목적이다.\n",
        "\n",
        "데이터 설명\n",
        "총 442명의 데이터가 존재하며 10개의 column은 전부 수치형 데이터로 구성되어 있다.\n",
        "\n",
        "출처 : [Scikit-learn 공식 문서-비만 데이터](https://scikit-learn.org/stable/datasets/toy_dataset.html#diabetes-dataset)"
      ]
    },
    {
      "cell_type": "markdown",
      "metadata": {
        "id": "Lp199qlMb-RU"
      },
      "source": [
        "- age : 나이\n",
        "- sex : 성별\n",
        "- bmi : BMI (body mass index) 값\n",
        "- bp : 평균 혈압\n",
        "- s1 : tc, 총 혈청 콜레스테롤\n",
        "- s2 : ldl, 저밀도 지질단백질\n",
        "- s3 : hdl, 고밀도 지질단백질\n",
        "- s4 : tch, 총 콜레스테롤/HDL\n",
        "- s5 : ltg, 아마도 혈청 트리글리세리드 수치의 로그값\n",
        "- s6 : glu, 혈당 수치\n",
        "\n",
        "\n",
        "\n",
        "> Scikit-learn 공식 문서에 위와 같이 작성되어 있다. 공식 문서에서 \"아마도\"라는 추측성 문구가 포함 된 것에 의문이 생겨 자료를 찾아보았지만 그 이유에 대해서 명확하게 답을 찾지 못했다. 따라서 구글 제미나이에 물어 본 결과 해당 데이터는 실제 논문에서는 선형 회귀 모델 학습의 새로운 통계적 방법인 Least Angle Regression(LARS)의 효용성을 증명하기 위해 사용된 데이터셋으로 의학적 지식을 대부분 제하고 작성되어 s1~s6로 대체된 6개의 혈청 정보라고만 소개했다고 한다.또한 이 데이터는 raw data가 아닌 전처리된 데이터로 모두 표준화까지 완료되어 있으며 R을 사용한 데이터 분석을 진행할 때 column의 이름에 포함된 정보를 기반으로 이후 연구자들이 추측한 정보라고 한다."
      ]
    },
    {
      "cell_type": "markdown",
      "metadata": {
        "id": "z77xnPCOoXGp"
      },
      "source": [
        "## 데이터 불러오기"
      ]
    },
    {
      "cell_type": "code",
      "execution_count": null,
      "metadata": {
        "id": "vuZXKBj8gbYl"
      },
      "outputs": [],
      "source": [
        "from sklearn.datasets import load_diabetes\n",
        "data = load_diabetes()\n",
        "df_X = data.data\n",
        "df_y = data.target"
      ]
    },
    {
      "cell_type": "code",
      "execution_count": null,
      "metadata": {
        "colab": {
          "base_uri": "https://localhost:8080/"
        },
        "id": "C0rvpxXijGQU",
        "outputId": "918f0aef-6d55-498f-d7dc-eba26146f4bc"
      },
      "outputs": [
        {
          "name": "stdout",
          "output_type": "stream",
          "text": [
            "<class 'numpy.ndarray'> float64\n"
          ]
        }
      ],
      "source": [
        "import numpy as np\n",
        "\n",
        "X = np.array(df_X)\n",
        "\n",
        "print(type(X), X.dtype)"
      ]
    },
    {
      "cell_type": "code",
      "execution_count": null,
      "metadata": {
        "colab": {
          "base_uri": "https://localhost:8080/"
        },
        "id": "cUYeCI20jKhV",
        "outputId": "31743628-7e02-4170-ffc2-10e078fe4d86"
      },
      "outputs": [
        {
          "name": "stdout",
          "output_type": "stream",
          "text": [
            "<class 'numpy.ndarray'> float64\n"
          ]
        }
      ],
      "source": [
        "y = np.array(df_y)\n",
        "\n",
        "print(type(y), y.dtype)"
      ]
    },
    {
      "cell_type": "markdown",
      "metadata": {
        "id": "2qDO9tNfoh-i"
      },
      "source": [
        "## train-test 데이터 분리"
      ]
    },
    {
      "cell_type": "code",
      "execution_count": null,
      "metadata": {
        "colab": {
          "base_uri": "https://localhost:8080/"
        },
        "id": "fFFnivdkjN-a",
        "outputId": "7c627696-d95b-4eda-d91b-3825f45e497b"
      },
      "outputs": [
        {
          "name": "stdout",
          "output_type": "stream",
          "text": [
            "(353, 10) (353,)\n",
            "(89, 10) (89,)\n"
          ]
        }
      ],
      "source": [
        "from sklearn.model_selection import train_test_split\n",
        "X_train, X_test, y_train, y_test = train_test_split(\n",
        "    X, y, test_size=0.2, random_state=42\n",
        ")\n",
        "\n",
        "print(X_train.shape, y_train.shape)\n",
        "print(X_test.shape, y_test.shape)"
      ]
    },
    {
      "cell_type": "markdown",
      "metadata": {
        "id": "umXcvYX1onjJ"
      },
      "source": [
        "## 모델 생성"
      ]
    },
    {
      "cell_type": "code",
      "execution_count": null,
      "metadata": {
        "colab": {
          "base_uri": "https://localhost:8080/"
        },
        "id": "AjplCHDpjPta",
        "outputId": "a0c30772-06ee-4883-c89d-c1b6cc9b3a2f"
      },
      "outputs": [
        {
          "name": "stdout",
          "output_type": "stream",
          "text": [
            "10\n"
          ]
        }
      ],
      "source": [
        "W = np.random.rand(X_train.shape[1])\n",
        "b = np.random.rand()\n",
        "\n",
        "print(len(W))"
      ]
    },
    {
      "cell_type": "code",
      "execution_count": null,
      "metadata": {
        "id": "P9_2526ajV_y"
      },
      "outputs": [],
      "source": [
        "def model(X, W, b):\n",
        "    predictions = 0\n",
        "    for i in range(len(W)):\n",
        "        predictions += X[:, i] * W[i]\n",
        "    predictions += b\n",
        "    return predictions"
      ]
    },
    {
      "cell_type": "code",
      "execution_count": null,
      "metadata": {
        "id": "KMy_nzSyjXHC"
      },
      "outputs": [],
      "source": [
        "def MSE(a, b):\n",
        "    mse = ((a - b) ** 2).mean()  # 두 값의 차이의 제곱의 평균\n",
        "    return mse"
      ]
    },
    {
      "cell_type": "code",
      "execution_count": null,
      "metadata": {
        "id": "P0ldoJN9jY9j"
      },
      "outputs": [],
      "source": [
        "def loss(X, W, b, y):\n",
        "    predictions = model(X, W, b)\n",
        "    L = MSE(predictions, y)\n",
        "    return L"
      ]
    },
    {
      "cell_type": "code",
      "execution_count": null,
      "metadata": {
        "id": "p2O1kD7gjaYy"
      },
      "outputs": [],
      "source": [
        "def gradient(X, W, b, y):\n",
        "    N = len(y)\n",
        "\n",
        "    y_pred = model(X, W, b)\n",
        "\n",
        "    dW = 1/N * 2 * X.T.dot(y_pred - y)\n",
        "\n",
        "    db = 2 * (y_pred - y).mean()\n",
        "    return dW, db"
      ]
    },
    {
      "cell_type": "code",
      "execution_count": null,
      "metadata": {
        "id": "hUWGa-NjjcfS"
      },
      "outputs": [],
      "source": [
        "LEARNING_RATE = 0.8"
      ]
    },
    {
      "cell_type": "markdown",
      "metadata": {
        "id": "aX0RJVVRorwk"
      },
      "source": [
        "## 모델 학습"
      ]
    },
    {
      "cell_type": "code",
      "execution_count": null,
      "metadata": {
        "colab": {
          "base_uri": "https://localhost:8080/"
        },
        "id": "8hYlDlqDjdqq",
        "outputId": "8ee3bca0-b2ac-4757-db1e-e97a805732bb"
      },
      "outputs": [
        {
          "name": "stdout",
          "output_type": "stream",
          "text": [
            "Iteration 100 : Loss 3599.8845\n",
            "Iteration 200 : Loss 3184.2673\n",
            "Iteration 300 : Loss 3034.1414\n",
            "Iteration 400 : Loss 2966.2489\n",
            "Iteration 500 : Loss 2933.6121\n",
            "Iteration 600 : Loss 2917.2869\n",
            "Iteration 700 : Loss 2908.7880\n",
            "Iteration 800 : Loss 2904.1683\n",
            "Iteration 900 : Loss 2901.5358\n",
            "Iteration 1000 : Loss 2899.9558\n",
            "177 ms ± 0 ns per loop (mean ± std. dev. of 1 run, 1 loop each)\n"
          ]
        }
      ],
      "source": [
        "%%timeit -n 1 -r 1\n",
        "global W, b\n",
        "\n",
        "losses = []\n",
        "\n",
        "for i in range(1, 1001):\n",
        "    dW, db = gradient(X_train, W, b, y_train)\n",
        "    W -= LEARNING_RATE * dW\n",
        "    b -= LEARNING_RATE * db\n",
        "    L = loss(X_train, W, b, y_train)\n",
        "    losses.append(L)\n",
        "    if i % 100 == 0:\n",
        "        print('Iteration %d : Loss %0.4f' % (i, L))"
      ]
    },
    {
      "cell_type": "markdown",
      "metadata": {
        "id": "EWENpjDOo6Qe"
      },
      "source": [
        "## 모델 평가하기"
      ]
    },
    {
      "cell_type": "code",
      "execution_count": null,
      "metadata": {
        "colab": {
          "base_uri": "https://localhost:8080/"
        },
        "id": "lGieGC1kjjKK",
        "outputId": "6038b32a-1f0b-4131-e042-ef2d254e039c"
      },
      "outputs": [
        {
          "data": {
            "text/plain": [
              "np.float64(2876.634599238638)"
            ]
          },
          "execution_count": 391,
          "metadata": {},
          "output_type": "execute_result"
        }
      ],
      "source": [
        "prediction = model(X_test, W, b)\n",
        "mse = loss(X_test, W, b, y_test)\n",
        "mse"
      ]
    },
    {
      "cell_type": "code",
      "execution_count": null,
      "metadata": {
        "colab": {
          "base_uri": "https://localhost:8080/",
          "height": 430
        },
        "id": "s5nZAeAxjlXy",
        "outputId": "a3e08baa-0276-465a-f3a5-57217ca695c9"
      },
      "outputs": [
        {
          "data": {
            "image/png": "[encoded data removed]",
            "text/plain": [
              "<Figure size 640x480 with 1 Axes>"
            ]
          },
          "metadata": {},
          "output_type": "display_data"
        }
      ],
      "source": [
        "import matplotlib.pyplot as plt\n",
        "\n",
        "plt.scatter(X_test[:, 0], y_test)\n",
        "plt.scatter(X_test[:, 0], prediction)\n",
        "plt.show()"
      ]
    }
  ],
  "metadata": {
    "colab": {
      "provenance": []
    },
    "kernelspec": {
      "display_name": "Python 3",
      "name": "python3"
    },
    "language_info": {
      "name": "python"
    }
  },
  "nbformat": 4,
  "nbformat_minor": 0
}
